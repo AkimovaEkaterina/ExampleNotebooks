{
 "cells": [
  {
   "cell_type": "markdown",
   "metadata": {},
   "source": [
    "### PART ONE ###\n",
    "\n",
    "#### Teacher's choice! ####\n",
    "\n",
    "The purpose of this exercise is to combine some of the features we've covered in class and investigate how to use those features together to solve a problem.\n",
    "\n",
    "The problem we'll address is to create a function to accomplish dynamically and indirectly what the builtin function dir() does statically and directly.\n",
    "\n",
    "The type str (type name used for strings in Pythonn) provides manu features useful for the manipulation and\n",
    "examination of strings. We have used the dir() builtin function extensively to examine the features of types\n",
    "such as str, or of objects like 'Hello' (a string). We can check whether or not the class and an instance of the\n",
    "class offer the same features by comparing their lists of features. Here's a function to do just that, followed by\n",
    "a call to that function:\n",
    "\n",
    "Writing a call to a function is just as important a part of the task as writing the function, since it grants you some confidence that the function is performing as expected."
   ]
  },
  {
   "cell_type": "code",
   "execution_count": 15,
   "metadata": {},
   "outputs": [
    {
     "name": "stdout",
     "output_type": "stream",
     "text": [
      "They're the same\n"
     ]
    }
   ],
   "source": [
    "def the_features_of_str_are_the_same_as_the_features_of_a_string():\n",
    "    return dir(str) == dir('Hello!')\n",
    "\n",
    "\n",
    "if the_features_of_str_are_the_same_as_the_features_of_a_string():\n",
    "    print(\"They're the same\")\n",
    "else:\n",
    "    print(\"They're not the same\")\n"
   ]
  },
  {
   "cell_type": "markdown",
   "metadata": {},
   "source": [
    "While the dir() function provides us with a list of features that belong to the object or type provided as an argument,\n",
    "we are referencing the attributes of a specific, statically defined class or object. We are also accustomed to\n",
    "selecting a specific feature by using a dot (.). For example, we can capitalize a string or check a prefix, even\n",
    "chain method calls\n"
   ]
  },
  {
   "cell_type": "code",
   "execution_count": 16,
   "metadata": {},
   "outputs": [
    {
     "name": "stdout",
     "output_type": "stream",
     "text": [
      "--- selecting features with a dot ---\n",
      "True\n",
      "False\n",
      "False\n",
      "True\n"
     ]
    }
   ],
   "source": [
    "print('--- selecting features with a dot ---')\n",
    "print('hello'.capitalize() == 'Hello')\n",
    "print('hello'.startswith('yell'))\n",
    "print('Yellow'.startswith('yell'))\n",
    "print('Yellow'.lower().startswith('yell'))\n"
   ]
  },
  {
   "cell_type": "markdown",
   "metadata": {},
   "source": [
    "There is a dynamic equivalent to the dot notation which allows choosing an attribute by a dynamic string. That \n",
    "dynamic equivalent is the __getattribute__ method, which would look like this:\n"
   ]
  },
  {
   "cell_type": "code",
   "execution_count": 17,
   "metadata": {},
   "outputs": [
    {
     "name": "stdout",
     "output_type": "stream",
     "text": [
      "--- selecting features dynamically ----\n",
      "Hello\n",
      "False\n"
     ]
    }
   ],
   "source": [
    "print('--- selecting features dynamically ----')\n",
    "print('hello'.__getattribute__('capitalize')())\n",
    "print('hello'.__getattribute__('startswith')('yell'))\n"
   ]
  },
  {
   "cell_type": "markdown",
   "metadata": {},
   "source": [
    "We can also allow the left side of the dot to be dynamic by using the eval() built-in function, which dynamically\n",
    "evaluates a string as Python code. **Note that parentheses are placed after the class name**. For example, to\n",
    "retrieve documentation strings indirectly for str, you'll use 'str' + '()':\n"
   ]
  },
  {
   "cell_type": "code",
   "execution_count": 18,
   "metadata": {},
   "outputs": [
    {
     "name": "stdout",
     "output_type": "stream",
     "text": [
      "True\n",
      "\n",
      "\n",
      "Documentation for str type:\n",
      " str(object='') -> str\n",
      "str(bytes_or_buffer[, encoding[, errors]]) -> str\n",
      "\n",
      "Create a new string object from the given object. If encoding or\n",
      "errors is specified, then the object must expose a data buffer\n",
      "that will be decoded using the given encoding and error handler.\n",
      "Otherwise, returns the result of object.__str__() (if defined)\n",
      "or repr(object).\n",
      "encoding defaults to sys.getdefaultencoding().\n",
      "errors defaults to 'strict'.\n",
      "\n",
      "\n",
      "Documentation for capitalize:\n",
      " S.capitalize() -> str\n",
      "\n",
      "Return a capitalized version of S, i.e. make the first character\n",
      "have upper case and the rest lower case.\n",
      "Exception resulting from no parentheses\n"
     ]
    }
   ],
   "source": [
    "\n",
    "print(dir(eval('str')) == dir(str))                            # REFERENCE LINE 1\n",
    "print('\\n\\nDocumentation for str type:\\n', eval('str()').__getattribute__('__doc__'))\n",
    "print('\\n\\nDocumentation for capitalize:\\n',\n",
    "      eval('str()').__getattribute__('capitalize').__getattribute__('__doc__'))   # REFERENCE LINE 2\n",
    "\n",
    "try:\n",
    "    eval('str').__getattribute__('capitalize')\n",
    "except:\n",
    "    print(\"Exception resulting from no parentheses\")"
   ]
  },
  {
   "cell_type": "markdown",
   "metadata": {},
   "source": [
    "#### Task 1 ####\n",
    "Your first task is to write a function that will return a list of the features of a type, generalizing\n",
    "the capability shown in the REFERENCE LINE 1 above\n"
   ]
  },
  {
   "cell_type": "code",
   "execution_count": 25,
   "metadata": {},
   "outputs": [
    {
     "name": "stdout",
     "output_type": "stream",
     "text": [
      "# of features of int 70\n",
      "# of features of str 77\n",
      "False\n"
     ]
    }
   ],
   "source": [
    "# This function has been worked out for you.\n",
    "# This version of the function is one that was turned in already by a fellow student\n",
    "def features_of_class(klass):\n",
    "    \"\"\"\n",
    "    :param klass: string containing a type name\n",
    "    :return: list of features as returned from dir\n",
    "    function_list=dir(eval(klass))\n",
    "    \"\"\"\n",
    "    features=dir(eval(klass))\n",
    "    return features\n",
    "\n",
    "test1='int'\n",
    "test2='str'\n",
    "features1=features_of_class(test1)\n",
    "print('# of features of int', len(features1))\n",
    "features2=features_of_class(test2)\n",
    "print('# of features of str', len(features2))\n",
    "print(features1==features2)\n"
   ]
  },
  {
   "cell_type": "markdown",
   "metadata": {},
   "source": [
    "#### Task 2 ####\n",
    "Your second task is to write a function that, given a type and a feature of that type, returns\n",
    "the doc string for that feature. See REFERENCE LINE 2 above for guidance \n"
   ]
  },
  {
   "cell_type": "code",
   "execution_count": 26,
   "metadata": {},
   "outputs": [
    {
     "name": "stdout",
     "output_type": "stream",
     "text": [
      "doc string fetching may need work\n"
     ]
    }
   ],
   "source": [
    "def doc_string_for_feature(klass, feature):\n",
    "    \"\"\"\n",
    "    :param klass: string containing a type name\n",
    "    :param feature: string containing a feature name\n",
    "    :return: doc string for the identified feature in the identified type\n",
    "    \"\"\"\n",
    "    klass_para=klass+'()'\n",
    "    pass ############## REPLACE THIS WITH YOUR IMPLEMENTATION ####################\n",
    "\n",
    "if doc_string_for_feature('str','capitalize') == str.capitalize.__doc__:\n",
    "    print('doc string fetching looks OK')\n",
    "else:\n",
    "    print('doc string fetching may need work')"
   ]
  },
  {
   "cell_type": "markdown",
   "metadata": {},
   "source": [
    "#### Task 3 ####\n",
    "The final task for PART ONE is to write a function that takes a type name as an argument\n",
    "and returns then name of the feature with the longest documentation string.\n",
    "You may use the dir() built-in, the eval() built-in, a list variable containing\n",
    "the names of the features as returned by one of the above functions, a variable \n",
    "containing the name of the feature with the longest documentation seen in the list so\n",
    "far, a variable with the length of the longest documentation seen in the list so far,\n",
    "a for loop, and whatever other Python building blocks you may need.\n"
   ]
  },
  {
   "cell_type": "code",
   "execution_count": 27,
   "metadata": {},
   "outputs": [
    {
     "name": "stdout",
     "output_type": "stream",
     "text": [
      "fwtmdft needs work\n"
     ]
    }
   ],
   "source": [
    "def feature_with_the_most_documentation_for_type(klass):\n",
    "    \"\"\"\n",
    "    :param klass: string containing a type name\n",
    "    :return: name of the feature with the most documentation\n",
    "    \"\"\"\n",
    "    features=features_of_class(klass)\n",
    "    doc_string=[]\n",
    "    \n",
    "    for feature in features:\n",
    "        doc_string.append(doc_string_for_feature(klass, feature))\n",
    "    pass   #### You pick up from here ####\n",
    "\n",
    "if feature_with_the_most_documentation_for_type('str') == 'maketrans':\n",
    "    print('fwtmdft checks out')\n",
    "else:\n",
    "    print('fwtmdft needs work')"
   ]
  },
  {
   "cell_type": "code",
   "execution_count": 28,
   "metadata": {},
   "outputs": [
    {
     "name": "stdout",
     "output_type": "stream",
     "text": [
      "Most complicated feature for str seems to be  None\n",
      "Most complicated feature for int seems to be  None\n"
     ]
    }
   ],
   "source": [
    "if __name__ == '__main__':\n",
    "    print('Most complicated feature for str seems to be ',\n",
    "          feature_with_the_most_documentation_for_type('str'))\n",
    "    print('Most complicated feature for int seems to be ',\n",
    "          feature_with_the_most_documentation_for_type('int'))\n"
   ]
  },
  {
   "cell_type": "markdown",
   "metadata": {},
   "source": [
    "## PART TWO ##\n",
    "\n",
    "Students choice!\n",
    "\n",
    "Create a new Jupyter notebook.\n",
    "In that notebook, I would like for you to choose a plotting library (matplotlib, bokeh, holoviews, or seaborn)\n",
    "and either a data set from the example data sets included with that library or another data set you may find\n",
    "of particular interest. \n",
    "\n",
    "In one or more cells, write a short report about the data set, using Markdown and LaTeX markup as necessary to describe\n",
    "the data, and what a reader might glean from it.\n",
    "\n",
    "In additional cells, write a short Python program to read in the data set and produce one or more plots from the data.\n"
   ]
  },
  {
   "cell_type": "code",
   "execution_count": null,
   "metadata": {},
   "outputs": [],
   "source": []
  }
 ],
 "metadata": {
  "kernelspec": {
   "display_name": "Python 3",
   "language": "python",
   "name": "python3"
  },
  "language_info": {
   "codemirror_mode": {
    "name": "ipython",
    "version": 3
   },
   "file_extension": ".py",
   "mimetype": "text/x-python",
   "name": "python",
   "nbconvert_exporter": "python",
   "pygments_lexer": "ipython3",
   "version": "3.6.5"
  }
 },
 "nbformat": 4,
 "nbformat_minor": 2
}
