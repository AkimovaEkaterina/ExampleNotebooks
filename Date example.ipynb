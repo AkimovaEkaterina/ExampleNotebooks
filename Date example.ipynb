{
 "cells": [
  {
   "cell_type": "markdown",
   "metadata": {},
   "source": [
    "The Treachery of Images (La Trahison des images) aka This Is Not a Pipe, by René Magritte, on display at the Los Angeles County Museum of Art.<img src=MagrittePipe.jpg>\n",
    "\n",
    "Some students have encountered issues when collecting data from a spreadsheet or comma-separated-values that include **\"dates\"** [quotes intended]. When we see something like \"10/7/2018\" or \"Oct 7 2018\", our mind says DATE! Unfortunately, just as this image is not a pipe, those sequences of characters are not dates. Let's see what Python thinks:"
   ]
  },
  {
   "cell_type": "code",
   "execution_count": 1,
   "metadata": {},
   "outputs": [
    {
     "name": "stdout",
     "output_type": "stream",
     "text": [
      "The type of 10/7/2018 is  <class 'str'>\n",
      "The type of Oct 7 2018 is  <class 'str'>\n"
     ]
    }
   ],
   "source": [
    "print(\"The type of 10/7/2018 is \", type(\"10/7/2018\"))\n",
    "print(\"The type of Oct 7 2018 is \", type(\"Oct 7 2018\"))"
   ]
  },
  {
   "cell_type": "markdown",
   "metadata": {},
   "source": [
    " See https://docs.python.org/3.6/library/datetime.html#strftime-strptime-behavior for documentation on the formatting characters"
   ]
  },
  {
   "cell_type": "code",
   "execution_count": 18,
   "metadata": {},
   "outputs": [
    {
     "name": "stdout",
     "output_type": "stream",
     "text": [
      "10/7/2018 is  2018-10-07 00:00:00\n",
      "Oct 7 2018 is  2018-10-07 00:00:00\n",
      "Type of the date is  <class 'datetime.datetime'>\n"
     ]
    }
   ],
   "source": [
    "from datetime import datetime\n",
    "print(\"10/7/2018 is \", datetime.strptime(\"10/7/2018\", \"%m/%d/%Y\"))\n",
    "d= datetime.strptime(\"Oct 7 2018\", \"%b %d %Y\")\n",
    "print(\"Oct 7 2018 is \", d)\n",
    "print(\"Type of the date is \", type(d))"
   ]
  },
  {
   "cell_type": "markdown",
   "metadata": {},
   "source": [
    "Once you have a datetime object, you can turn it into a date, a time, a timestamp, etc.\n",
    "Whatever works best for the date/time range you are working with"
   ]
  },
  {
   "cell_type": "code",
   "execution_count": 20,
   "metadata": {},
   "outputs": [
    {
     "name": "stdout",
     "output_type": "stream",
     "text": [
      "datetime as date  2018-10-07\n",
      "datetime as time  00:00:00\n",
      "datetime as timestamp  1538888400.0\n"
     ]
    }
   ],
   "source": [
    "print(\"datetime as date \", d.date())\n",
    "print(\"datetime as time \", d.time())\n",
    "print(\"datetime as timestamp \", d.timestamp())"
   ]
  },
  {
   "cell_type": "code",
   "execution_count": 16,
   "metadata": {},
   "outputs": [
    {
     "name": "stdout",
     "output_type": "stream",
     "text": [
      "Help on method_descriptor:\n",
      "\n",
      "timestamp(...)\n",
      "    Return POSIX timestamp as float.\n",
      "\n"
     ]
    }
   ],
   "source": [
    "help(datetime.timestamp)"
   ]
  },
  {
   "cell_type": "code",
   "execution_count": null,
   "metadata": {},
   "outputs": [],
   "source": []
  }
 ],
 "metadata": {
  "kernelspec": {
   "display_name": "Python 3",
   "language": "python",
   "name": "python3"
  },
  "language_info": {
   "codemirror_mode": {
    "name": "ipython",
    "version": 3
   },
   "file_extension": ".py",
   "mimetype": "text/x-python",
   "name": "python",
   "nbconvert_exporter": "python",
   "pygments_lexer": "ipython3",
   "version": "3.6.5"
  }
 },
 "nbformat": 4,
 "nbformat_minor": 2
}
